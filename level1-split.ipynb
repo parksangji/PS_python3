{
 "cells": [
  {
   "cell_type": "code",
   "execution_count": 10,
   "source": [
    "def solution(s) :\n",
    "    splitlist = s.split(\" \") # string을 공백을 기준으로 list에 저장.\n",
    "    for i in range(len(splitlist)) :\n",
    "        s_list = list(splitlist[i]) # idx i번째의 값을 list로 s_list에 저장 list : str\n",
    "        for k in range(len(s_list)) :\n",
    "            if k%2 == 0:\n",
    "                s_list[k] = s_list[k].upper() # string 대문자\n",
    "            else :\n",
    "                s_list[k] = s_list[k].lower() # string 소문자\n",
    "        splitlist[i] = \"\".join(s_list) #idx i번째에 다시 저장#\n",
    "    answer = \" \".join(splitlist) # splitlist를 \" \"을 기준으로 string으로 변경.\n",
    "\n",
    "solution(\"i love you\")\n",
    "solution(\"i you\")\n",
    "solution(\"ovel you\")\n"
   ],
   "outputs": [
    {
     "output_type": "stream",
     "name": "stdout",
     "text": [
      "I\n",
      "LoVe\n",
      "YoU\n",
      "['I', 'LoVe', 'YoU']\n",
      "I\n",
      "YoU\n",
      "['I', 'YoU']\n",
      "OvEl\n",
      "YoU\n",
      "['OvEl', 'YoU']\n"
     ]
    }
   ],
   "metadata": {}
  }
 ],
 "metadata": {
  "orig_nbformat": 4,
  "language_info": {
   "name": "python",
   "version": "3.6.9",
   "mimetype": "text/x-python",
   "codemirror_mode": {
    "name": "ipython",
    "version": 3
   },
   "pygments_lexer": "ipython3",
   "nbconvert_exporter": "python",
   "file_extension": ".py"
  },
  "kernelspec": {
   "name": "python3",
   "display_name": "Python 3.6.9 64-bit"
  },
  "interpreter": {
   "hash": "31f2aee4e71d21fbe5cf8b01ff0e069b9275f58929596ceb00d14d90e3e16cd6"
  }
 },
 "nbformat": 4,
 "nbformat_minor": 2
}