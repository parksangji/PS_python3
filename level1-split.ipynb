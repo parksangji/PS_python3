{
 "cells": [
  {
   "cell_type": "code",
   "execution_count": 1,
   "source": [
    "def solution(s) :\n",
    "    splitlist = s.split(\" \")\n",
    "    for i in range(len(splitlist)) :\n",
    "        s_list = list(splitlist[i])\n",
    "\n",
    "        for k in range(len(s_list)) :\n",
    "            if k%2 == 0:\n",
    "                s_list[k] = s_list[k].upper()\n",
    "            else :\n",
    "                s_list[k] = s_list[k].lower()\n",
    "        splitlist[i] = \"\".join(s_list)\n",
    "    answer = \" \".join(splitlist)\n",
    "\n",
    "solution(\"i love you\")\n",
    "solution(\"i you\")\n",
    "solution(\"ovel you\")\n"
   ],
   "outputs": [],
   "metadata": {}
  }
 ],
 "metadata": {
  "orig_nbformat": 4,
  "language_info": {
   "name": "python",
   "version": "3.6.9",
   "mimetype": "text/x-python",
   "codemirror_mode": {
    "name": "ipython",
    "version": 3
   },
   "pygments_lexer": "ipython3",
   "nbconvert_exporter": "python",
   "file_extension": ".py"
  },
  "kernelspec": {
   "name": "python3",
   "display_name": "Python 3.6.9 64-bit"
  },
  "interpreter": {
   "hash": "31f2aee4e71d21fbe5cf8b01ff0e069b9275f58929596ceb00d14d90e3e16cd6"
  }
 },
 "nbformat": 4,
 "nbformat_minor": 2
}